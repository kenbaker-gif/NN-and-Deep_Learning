{
  "nbformat": 4,
  "nbformat_minor": 0,
  "metadata": {
    "colab": {
      "provenance": [],
      "authorship_tag": "ABX9TyNijXpXk8ZkMnupABC5xxKs",
      "include_colab_link": true
    },
    "kernelspec": {
      "name": "python3",
      "display_name": "Python 3"
    },
    "language_info": {
      "name": "python"
    }
  },
  "cells": [
    {
      "cell_type": "markdown",
      "metadata": {
        "id": "view-in-github",
        "colab_type": "text"
      },
      "source": [
        "<a href=\"https://colab.research.google.com/github/kenbaker-gif/NN-and-Deep_Learning/blob/main/Toy_data_set_using_LR.ipynb\" target=\"_parent\"><img src=\"https://colab.research.google.com/assets/colab-badge.svg\" alt=\"Open In Colab\"/></a>"
      ]
    },
    {
      "cell_type": "code",
      "execution_count": 1,
      "metadata": {
        "colab": {
          "base_uri": "https://localhost:8080/"
        },
        "id": "_LcRa-mgUUNg",
        "outputId": "aaf8eb10-88d6-49cb-b683-0041c660d32b"
      },
      "outputs": [
        {
          "output_type": "stream",
          "name": "stdout",
          "text": [
            "Iteration 0: Cost = 0.6931\n",
            "Iteration 100: Cost = 0.6866\n",
            "Iteration 200: Cost = 0.6823\n",
            "Iteration 300: Cost = 0.6796\n",
            "Iteration 400: Cost = 0.6778\n",
            "Iteration 500: Cost = 0.6767\n",
            "Iteration 600: Cost = 0.6759\n",
            "Iteration 700: Cost = 0.6754\n",
            "Iteration 800: Cost = 0.6751\n",
            "Iteration 900: Cost = 0.6749\n",
            "\n",
            "Final Weights and Bias:\n",
            "w: [[-0.49571169]\n",
            " [ 1.02464329]]\n",
            "b: -0.24354262831706958\n",
            "\n",
            "Predictions: [[0 0 1 0]]\n",
            "True Labels: [[0 1 1 0]]\n"
          ]
        }
      ],
      "source": [
        "import numpy as np\n",
        "\n",
        "# 1. Toy Dataset\n",
        "X = np.array([[0.5, 2.0, 1.5, 3.2],  # Feature 1\n",
        "              [1.0, 0.5, 3.5, 2.2]])  # Feature 2\n",
        "Y = np.array([[0, 1, 1, 0]])  # Labels (0 or 1)\n",
        "\n",
        "# Normalize features (optional but helps learning)\n",
        "X = X / np.max(X, axis=1, keepdims=True)\n",
        "\n",
        "# 2. Initialize Parameters\n",
        "def initialize_parameters(dim):\n",
        "    w = np.zeros((dim, 1))\n",
        "    b = 0\n",
        "    return w, b\n",
        "\n",
        "# 3. Forward Propagation\n",
        "def sigmoid(z):\n",
        "    return 1 / (1 + np.exp(-z))\n",
        "\n",
        "def forward_propagation(w, b, X):\n",
        "    Z = np.dot(w.T, X) + b\n",
        "    A = sigmoid(Z)\n",
        "    return A, Z\n",
        "\n",
        "# 4. Compute Cost\n",
        "def compute_cost(A, Y):\n",
        "    m = Y.shape[1]\n",
        "    cost = -(1 / m) * np.sum(Y * np.log(A) + (1 - Y) * np.log(1 - A))\n",
        "    return cost\n",
        "\n",
        "# 5. Backward Propagation\n",
        "def backward_propagation(X, Y, A):\n",
        "    m = X.shape[1]\n",
        "    dw = (1 / m) * np.dot(X, (A - Y).T)\n",
        "    db = (1 / m) * np.sum(A - Y)\n",
        "    return dw, db\n",
        "\n",
        "# 6. Update Parameters\n",
        "def update_parameters(w, b, dw, db, learning_rate):\n",
        "    w = w - learning_rate * dw\n",
        "    b = b - learning_rate * db\n",
        "    return w, b\n",
        "\n",
        "# 7. Prediction\n",
        "def predict(w, b, X):\n",
        "    A, _ = forward_propagation(w, b, X)\n",
        "    return (A > 0.5).astype(int)\n",
        "\n",
        "# 8. Train Logistic Regression Model\n",
        "def train(X, Y, num_iterations=1000, learning_rate=0.1):\n",
        "    dim = X.shape[0]\n",
        "    w, b = initialize_parameters(dim)\n",
        "\n",
        "    for i in range(num_iterations):\n",
        "        # Forward Propagation\n",
        "        A, _ = forward_propagation(w, b, X)\n",
        "\n",
        "        # Compute Cost\n",
        "        cost = compute_cost(A, Y)\n",
        "\n",
        "        # Backward Propagation\n",
        "        dw, db = backward_propagation(X, Y, A)\n",
        "\n",
        "        # Update Parameters\n",
        "        w, b = update_parameters(w, b, dw, db, learning_rate)\n",
        "\n",
        "        # Print cost every 100 iterations\n",
        "        if i % 100 == 0:\n",
        "            print(f\"Iteration {i}: Cost = {cost:.4f}\")\n",
        "\n",
        "    return w, b\n",
        "\n",
        "# Train the model\n",
        "w, b = train(X, Y, num_iterations=1000, learning_rate=0.1)\n",
        "\n",
        "# Test Predictions\n",
        "print(\"\\nFinal Weights and Bias:\")\n",
        "print(\"w:\", w)\n",
        "print(\"b:\", b)\n",
        "\n",
        "predictions = predict(w, b, X)\n",
        "print(\"\\nPredictions:\", predictions)\n",
        "print(\"True Labels:\", Y)\n"
      ]
    }
  ]
}